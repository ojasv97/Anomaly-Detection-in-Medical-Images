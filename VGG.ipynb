{
  "nbformat": 4,
  "nbformat_minor": 0,
  "metadata": {
    "accelerator": "TPU",
    "colab": {
      "name": "VGG.ipynb",
      "provenance": [],
      "collapsed_sections": []
    },
    "kernelspec": {
      "display_name": "Python 3",
      "name": "python3"
    },
    "language_info": {
      "name": "python"
    }
  },
  "cells": [
    {
      "cell_type": "code",
      "metadata": {
        "colab": {
          "base_uri": "https://localhost:8080/"
        },
        "id": "4dWdQxWRKxnZ",
        "outputId": "4f369afa-bedf-4a27-8a6c-0c8a8bacda47"
      },
      "source": [
        "import pandas as pd\n",
        "import random\n",
        "import numpy as np\n",
        "import os\n",
        "import tensorflow.keras\n",
        "from tensorflow import keras\n",
        "from tensorflow.keras.models import *\n",
        "from tensorflow.keras.layers import *\n",
        "from tensorflow.keras.callbacks import *\n",
        "from tensorflow.keras.optimizers import *\n",
        "import matplotlib.pyplot as plt\n",
        "from tensorflow.keras.layers import Dense,GlobalAveragePooling2D\n",
        "from tensorflow.keras.applications import MobileNet\n",
        "from tensorflow.keras.applications import ResNet50\n",
        "from tensorflow.keras.applications import InceptionV3\n",
        "from tensorflow.keras.preprocessing import image\n",
        "from tensorflow.keras.preprocessing.image import ImageDataGenerator\n",
        "from tensorflow.keras.models import Model\n",
        "from tensorflow.keras.layers import Input\n",
        "from tensorflow.keras.optimizers import Adam\n",
        "from tensorflow.keras.applications.mobilenet import preprocess_input as process_mobilenet\n",
        "from tensorflow.keras.applications.inception_v3 import preprocess_input as process_inception\n",
        "from tensorflow.keras.applications.resnet50 import preprocess_input as process_resnet\n",
        "from tensorflow.keras.applications import VGG16\n",
        "from tensorflow.keras.applications.vgg16 import preprocess_input as process_vgg\n",
        "import itertools\n",
        "\n",
        "import cv2\n",
        "\n",
        "from sklearn.metrics import confusion_matrix, accuracy_score\n",
        "# Start CoLab\n",
        "try:\n",
        "  from google.colab import drive\n",
        "  %tensorflow_version 2.x\n",
        "  drive.mount('/content/drive', force_remount=True)\n",
        "  COLAB = True\n",
        "  print(\"Note: using Google CoLab\")\n",
        "except:\n",
        "  print(\"Note: not using Google CoLab\")\n",
        "  COLAB = False"
      ],
      "execution_count": 1,
      "outputs": [
        {
          "output_type": "stream",
          "text": [
            "Mounted at /content/drive\n",
            "Note: using Google CoLab\n"
          ],
          "name": "stdout"
        }
      ]
    },
    {
      "cell_type": "code",
      "metadata": {
        "colab": {
          "base_uri": "https://localhost:8080/",
          "height": 35
        },
        "id": "lR_ckp4bK65h",
        "outputId": "17ac5469-c8ea-45e2-9778-47395ba6ea4a"
      },
      "source": [
        "import tensorflow as tf\n",
        "tf.test.gpu_device_name()"
      ],
      "execution_count": 2,
      "outputs": [
        {
          "output_type": "execute_result",
          "data": {
            "application/vnd.google.colaboratory.intrinsic+json": {
              "type": "string"
            },
            "text/plain": [
              "''"
            ]
          },
          "metadata": {
            "tags": []
          },
          "execution_count": 2
        }
      ]
    },
    {
      "cell_type": "code",
      "metadata": {
        "id": "SFfzMtYFLU7U"
      },
      "source": [
        "def wrap_generator(generator):\n",
        "    \n",
        "    while True:\n",
        "        x,y = next(generator)\n",
        "        y = tf.keras.utils.to_categorical(y)\n",
        "        zeros = tf.zeros_like(y) + tf.constant([1.,0.])\n",
        "        y = tf.concat([y,zeros], axis=0)\n",
        "        yield x,y"
      ],
      "execution_count": 3,
      "outputs": []
    },
    {
      "cell_type": "code",
      "metadata": {
        "id": "tZl1nSfBlV45"
      },
      "source": [
        "def set_seed(seed):\n",
        "    \n",
        "    tf.random.set_seed(seed)\n",
        "    os.environ['PYTHONHASHSEED'] = str(seed)\n",
        "    np.random.seed(seed)\n",
        "    random.seed(seed)\n",
        "\n"
      ],
      "execution_count": 4,
      "outputs": []
    },
    {
      "cell_type": "code",
      "metadata": {
        "id": "no5-U0cLj0N-"
      },
      "source": [
        "def get_model(train=True):\n",
        "    set_seed(33)\n",
        "    inp = Input((224,224,3))\n",
        "\n",
        "    pre_1 = Lambda(process_vgg)\n",
        "\n",
        "    mobilenet = VGG16(weights = 'imagenet', include_top = False)\n",
        "\n",
        "    for layer in mobilenet.layers[:-4]:\n",
        "        layer.trainable = False\n",
        "\n",
        "    mobilenet_process = pre_1(GaussianNoise(0.1)(inp))\n",
        "    mobile_net = mobilenet(mobilenet_process)\n",
        "\n",
        "    noise = Lambda(tf.zeros_like)(mobile_net)\n",
        "    noise = GaussianNoise(0.1)(noise)\n",
        "\n",
        "    if train:\n",
        "        x = Lambda(lambda z: tf.concat(z, axis=0))([mobile_net,noise])\n",
        "        x = Activation('relu')(x)\n",
        "    else:\n",
        "        x = mobile_net\n",
        "\n",
        "    x_mobilenet = GlobalMaxPool2D()(x)\n",
        "    x_mobilenet = Dense(1024, activation='relu')(x_mobilenet)\n",
        "\n",
        "    a = x_mobilenet\n",
        "        \n",
        "    a = Dense(512, activation='relu')(a)\n",
        "    a = Dense(128, activation='relu')(a)\n",
        "    out = Dense(2, activation='softmax')(a)\n",
        " \n",
        "    model = Model(inp, out)\n",
        "    model.compile(Adam(lr=1e-2), loss='binary_crossentropy')\n",
        "    \n",
        "    return model"
      ],
      "execution_count": 5,
      "outputs": []
    },
    {
      "cell_type": "code",
      "metadata": {
        "id": "mdCvMfZHLZWt"
      },
      "source": [
        "\n",
        "### CREATE EMPTY GENERATORS ###\n",
        "\n",
        "train_datagen = ImageDataGenerator()\n",
        "test_datagen = ImageDataGenerator()\n",
        "\n",
        "SHAPE = (224,224,3)"
      ],
      "execution_count": 6,
      "outputs": []
    },
    {
      "cell_type": "code",
      "metadata": {
        "colab": {
          "base_uri": "https://localhost:8080/"
        },
        "id": "7wKLZ2lIfUke",
        "outputId": "e595cc2e-92f6-4f1c-9e84-b73530a32cf6"
      },
      "source": [
        "### FLOW GENERATORS ###\n",
        "\n",
        "train_generator = train_datagen.flow_from_directory(\n",
        "            '/content/drive/My Drive/Dataset_Project/Dataset 4',\n",
        "            target_size = (SHAPE[0], SHAPE[1]),\n",
        "            batch_size = 256,\n",
        "            class_mode = 'categorical',\n",
        "            shuffle = True,\n",
        "            seed = 33,\n",
        "            classes = ['no']\n",
        "    )\n",
        "\n",
        "test_generator = test_datagen.flow_from_directory(\n",
        "            '/content/drive/My Drive/Dataset_Project/Dataset 2/',\n",
        "            target_size = (SHAPE[0], SHAPE[1]),\n",
        "            batch_size = 256,\n",
        "            class_mode = 'categorical',\n",
        "            shuffle = False,\n",
        "            seed = 33,\n",
        "            classes = ['no','yes']\n",
        ")"
      ],
      "execution_count": 7,
      "outputs": [
        {
          "output_type": "stream",
          "text": [
            "Found 1500 images belonging to 1 classes.\n",
            "Found 253 images belonging to 2 classes.\n"
          ],
          "name": "stdout"
        }
      ]
    },
    {
      "cell_type": "code",
      "metadata": {
        "colab": {
          "base_uri": "https://localhost:8080/"
        },
        "id": "J1ZXRyIMNQp8",
        "outputId": "0b586924-02de-4d78-83a2-87053a1ce067"
      },
      "source": [
        "print(train_generator.class_indices)\n",
        "print(test_generator.class_indices)"
      ],
      "execution_count": 8,
      "outputs": [
        {
          "output_type": "stream",
          "text": [
            "{'no': 0}\n",
            "{'no': 0, 'yes': 1}\n"
          ],
          "name": "stdout"
        }
      ]
    },
    {
      "cell_type": "code",
      "metadata": {
        "colab": {
          "base_uri": "https://localhost:8080/",
          "height": 221
        },
        "id": "ge4UXATr6KVB",
        "outputId": "9fb37cdf-f13b-4e8e-96c8-352d334d707c"
      },
      "source": [
        "\n",
        "\n",
        "model = get_model()\n",
        "model.fit(wrap_generator(train_generator), steps_per_epoch=train_generator.samples/train_generator.batch_size, epochs=5)"
      ],
      "execution_count": 1,
      "outputs": [
        {
          "output_type": "error",
          "ename": "NameError",
          "evalue": "ignored",
          "traceback": [
            "\u001b[0;31m---------------------------------------------------------------------------\u001b[0m",
            "\u001b[0;31mNameError\u001b[0m                                 Traceback (most recent call last)",
            "\u001b[0;32m<ipython-input-1-f20ef3ab00cc>\u001b[0m in \u001b[0;36m<module>\u001b[0;34m()\u001b[0m\n\u001b[1;32m      1\u001b[0m \u001b[0;34m\u001b[0m\u001b[0m\n\u001b[1;32m      2\u001b[0m \u001b[0;34m\u001b[0m\u001b[0m\n\u001b[0;32m----> 3\u001b[0;31m \u001b[0mmodel\u001b[0m \u001b[0;34m=\u001b[0m \u001b[0mget_model\u001b[0m\u001b[0;34m(\u001b[0m\u001b[0;34m)\u001b[0m\u001b[0;34m\u001b[0m\u001b[0;34m\u001b[0m\u001b[0m\n\u001b[0m\u001b[1;32m      4\u001b[0m \u001b[0mmodel\u001b[0m\u001b[0;34m.\u001b[0m\u001b[0mfit\u001b[0m\u001b[0;34m(\u001b[0m\u001b[0mwrap_generator\u001b[0m\u001b[0;34m(\u001b[0m\u001b[0mtrain_generator\u001b[0m\u001b[0;34m)\u001b[0m\u001b[0;34m,\u001b[0m \u001b[0msteps_per_epoch\u001b[0m\u001b[0;34m=\u001b[0m\u001b[0mtrain_generator\u001b[0m\u001b[0;34m.\u001b[0m\u001b[0msamples\u001b[0m\u001b[0;34m/\u001b[0m\u001b[0mtrain_generator\u001b[0m\u001b[0;34m.\u001b[0m\u001b[0mbatch_size\u001b[0m\u001b[0;34m,\u001b[0m \u001b[0mepochs\u001b[0m\u001b[0;34m=\u001b[0m\u001b[0;36m5\u001b[0m\u001b[0;34m)\u001b[0m\u001b[0;34m\u001b[0m\u001b[0;34m\u001b[0m\u001b[0m\n",
            "\u001b[0;31mNameError\u001b[0m: name 'get_model' is not defined"
          ]
        }
      ]
    },
    {
      "cell_type": "code",
      "metadata": {
        "colab": {
          "base_uri": "https://localhost:8080/"
        },
        "id": "hXf2Q6eU8_ta",
        "outputId": "b68472ce-465d-489f-cb72-586997b701ef"
      },
      "source": [
        "  ### RETRIVE TEST LABEL FROM GENERATOR ###\n",
        "\n",
        "test_num = test_generator.samples\n",
        "\n",
        "label_test = []\n",
        "for i in range((test_num // test_generator.batch_size)+1):\n",
        "    X,y = test_generator.next()\n",
        "    label_test.append(y)\n",
        "        \n",
        "label_test = np.argmax(np.vstack(label_test), axis=1)\n",
        "label_test.shape\n",
        "print(label_test)"
      ],
      "execution_count": null,
      "outputs": [
        {
          "output_type": "stream",
          "text": [
            "[0 0 0 0 0 0 0 0 0 0 0 0 0 0 0 0 0 0 0 0 0 0 0 0 0 0 0 0 0 0 0 0 0 0 0 0 0\n",
            " 0 0 0 0 0 0 0 0 0 0 0 0 0 0 0 0 0 0 0 0 0 0 0 0 0 0 0 0 0 0 0 0 0 0 0 0 0\n",
            " 0 0 0 0 0 0 0 0 0 0 0 0 0 0 0 0 0 0 0 0 0 0 0 0 1 1 1 1 1 1 1 1 1 1 1 1 1\n",
            " 1 1 1 1 1 1 1 1 1 1 1 1 1 1 1 1 1 1 1 1 1 1 1 1 1 1 1 1 1 1 1 1 1 1 1 1 1\n",
            " 1 1 1 1 1 1 1 1 1 1 1 1 1 1 1 1 1 1 1 1 1 1 1 1 1 1 1 1 1 1 1 1 1 1 1 1 1\n",
            " 1 1 1 1 1 1 1 1 1 1 1 1 1 1 1 1 1 1 1 1 1 1 1 1 1 1 1 1 1 1 1 1 1 1 1 1 1\n",
            " 1 1 1 1 1 1 1 1 1 1 1 1 1 1 1 1 1 1 1 1 1 1 1 1 1 1 1 1 1 1 1]\n"
          ],
          "name": "stdout"
        }
      ]
    },
    {
      "cell_type": "code",
      "metadata": {
        "id": "lTcYMk9G_Hsg"
      },
      "source": [
        "### SWITCH TO INFERENCE MODE TO COMPUTE PREDICTIONS ###\n",
        "\n",
        "ineference_model = get_model(train=False)"
      ],
      "execution_count": null,
      "outputs": []
    },
    {
      "cell_type": "code",
      "metadata": {
        "colab": {
          "base_uri": "https://localhost:8080/"
        },
        "id": "aCd5YySI_bhZ",
        "outputId": "d9aa3c4e-f2a0-48a5-9101-38ab2dd07b2b"
      },
      "source": [
        "### COMPUTE PREDICTIONS ON TEST DATA ###\n",
        "\n",
        "pred_test = np.argmax(ineference_model.predict(test_generator), axis=1)\n",
        "print(pred_test)"
      ],
      "execution_count": null,
      "outputs": [
        {
          "output_type": "stream",
          "text": [
            "[1 0 0 1 0 0 1 0 0 1 1 1 1 0 1 1 1 1 0 1 0 1 1 0 1 0 0 0 1 0 0 1 1 1 1 0 1\n",
            " 0 1 1 1 0 1 0 0 1 0 0 0 0 1 0 0 0 0 1 0 1 1 1 1 1 0 1 1 0 1 1 1 1 0 1 1 1\n",
            " 1 1 0 1 1 1 1 1 1 1 0 1 1 1 1 0 1 1 1 1 1 1 1 1 0 0 1 0 1 1 1 1 0 0 1 0 0\n",
            " 1 1 1 0 0 1 1 0 1 1 1 1 1 0 1 1 0 0 1 0 0 1 0 1 1 1 0 0 1 0 0 1 1 1 0 0 1\n",
            " 1 1 0 1 0 1 1 0 0 0 0 1 0 1 0 1 0 0 1 1 0 0 0 0 1 0 1 1 0 1 1 0 1 0 0 0 1\n",
            " 1 1 0 1 1 1 0 0 0 0 1 0 0 0 0 1 0 0 0 1 0 1 0 1 0 1 1 1 0 0 0 0 0 0 1 1 1\n",
            " 0 0 1 0 1 0 0 0 0 0 0 1 1 1 0 0 0 1 0 1 0 1 1 1 1 0 1 0 0 0 0]\n"
          ],
          "name": "stdout"
        }
      ]
    },
    {
      "cell_type": "code",
      "metadata": {
        "colab": {
          "base_uri": "https://localhost:8080/"
        },
        "id": "k43OtguRBOaw",
        "outputId": "e814e48c-b542-4d90-ab2c-f7664689d85c"
      },
      "source": [
        "\n",
        "### ACCURACY ON TEST DATA ###\n",
        "\n",
        "print('ACCURACY:', accuracy_score(label_test, pred_test))"
      ],
      "execution_count": null,
      "outputs": [
        {
          "output_type": "stream",
          "text": [
            "ACCURACY: 0.4268774703557312\n"
          ],
          "name": "stdout"
        }
      ]
    },
    {
      "cell_type": "code",
      "metadata": {
        "id": "fHEgvLvFBSrb"
      },
      "source": [
        "def plot_confusion_matrix(cm, classes, title='Confusion matrix', cmap=plt.cm.Blues):\n",
        "\n",
        "    cm = cm.astype('float') / cm.sum(axis=1)[:, np.newaxis]\n",
        "\n",
        "    plt.imshow(cm, interpolation='nearest', cmap=cmap)\n",
        "    plt.title(title, fontsize=25)\n",
        "    #plt.colorbar()\n",
        "    tick_marks = np.arange(len(classes))\n",
        "    plt.xticks(tick_marks, classes, rotation=90, fontsize=15)\n",
        "    plt.yticks(tick_marks, classes, fontsize=15)\n",
        "\n",
        "    fmt = '.2f'\n",
        "    thresh = cm.max() / 2.\n",
        "    for i, j in itertools.product(range(cm.shape[0]), range(cm.shape[1])):\n",
        "        plt.text(j, i, format(cm[i, j], fmt),\n",
        "                 horizontalalignment=\"center\",\n",
        "                 color=\"white\" if cm[i, j] > thresh else \"black\", fontsize = 14)\n",
        "\n",
        "    plt.ylabel('True label', fontsize=20)\n",
        "    plt.xlabel('Predicted label', fontsize=20)"
      ],
      "execution_count": null,
      "outputs": []
    },
    {
      "cell_type": "code",
      "metadata": {
        "colab": {
          "base_uri": "https://localhost:8080/",
          "height": 495
        },
        "id": "KEehsx5QCPDh",
        "outputId": "5cdfc8f1-6a39-4582-ac60-72c2f8a3d49c"
      },
      "source": [
        "### CONFUSION MATRIX ON TEST DATA ###\n",
        "\n",
        "cnf_matrix = confusion_matrix(label_test, pred_test)\n",
        "\n",
        "plt.figure(figsize=(7,7))\n",
        "plot_confusion_matrix(cnf_matrix, classes=['YES','NO'])\n",
        "plt.show()"
      ],
      "execution_count": null,
      "outputs": [
        {
          "output_type": "display_data",
          "data": {
            "image/png": "[encoded data removed]",
            "text/plain": [
              "<Figure size 504x504 with 1 Axes>"
            ]
          },
          "metadata": {
            "tags": [],
            "needs_background": "light"
          }
        }
      ]
    },
    {
      "cell_type": "code",
      "metadata": {
        "colab": {
          "base_uri": "https://localhost:8080/"
        },
        "id": "qe6F_q-7CSFP",
        "outputId": "8dc9cdca-bab5-40be-85fb-c632fd19f5d5"
      },
      "source": [
        "from sklearn .metrics import roc_auc_score \n",
        "from sklearn import metrics\n",
        "print(roc_auc_score(label_test,pred_test))"
      ],
      "execution_count": null,
      "outputs": [
        {
          "output_type": "stream",
          "text": [
            "0.4140552995391705\n"
          ],
          "name": "stdout"
        }
      ]
    },
    {
      "cell_type": "code",
      "metadata": {
        "id": "ALiBkIeqhx6p",
        "colab": {
          "base_uri": "https://localhost:8080/"
        },
        "outputId": "6ddd6810-711e-454e-cca9-91eb779d0f09"
      },
      "source": [
        "model.summary()"
      ],
      "execution_count": null,
      "outputs": [
        {
          "output_type": "stream",
          "text": [
            "Model: \"model\"\n",
            "__________________________________________________________________________________________________\n",
            "Layer (type)                    Output Shape         Param #     Connected to                     \n",
            "==================================================================================================\n",
            "input_1 (InputLayer)            [(None, 224, 224, 3) 0                                            \n",
            "__________________________________________________________________________________________________\n",
            "gaussian_noise (GaussianNoise)  (None, 224, 224, 3)  0           input_1[0][0]                    \n",
            "__________________________________________________________________________________________________\n",
            "lambda (Lambda)                 (None, 224, 224, 3)  0           gaussian_noise[0][0]             \n",
            "__________________________________________________________________________________________________\n",
            "vgg16 (Functional)              (None, None, None, 5 14714688    lambda[0][0]                     \n",
            "__________________________________________________________________________________________________\n",
            "lambda_1 (Lambda)               (None, 7, 7, 512)    0           vgg16[0][0]                      \n",
            "__________________________________________________________________________________________________\n",
            "gaussian_noise_1 (GaussianNoise (None, 7, 7, 512)    0           lambda_1[0][0]                   \n",
            "__________________________________________________________________________________________________\n",
            "lambda_2 (Lambda)               (None, 7, 7, 512)    0           vgg16[0][0]                      \n",
            "                                                                 gaussian_noise_1[0][0]           \n",
            "__________________________________________________________________________________________________\n",
            "activation (Activation)         (None, 7, 7, 512)    0           lambda_2[0][0]                   \n",
            "__________________________________________________________________________________________________\n",
            "global_max_pooling2d (GlobalMax (None, 512)          0           activation[0][0]                 \n",
            "__________________________________________________________________________________________________\n",
            "dense (Dense)                   (None, 1024)         525312      global_max_pooling2d[0][0]       \n",
            "__________________________________________________________________________________________________\n",
            "dense_1 (Dense)                 (None, 512)          524800      dense[0][0]                      \n",
            "__________________________________________________________________________________________________\n",
            "dense_2 (Dense)                 (None, 128)          65664       dense_1[0][0]                    \n",
            "__________________________________________________________________________________________________\n",
            "dense_3 (Dense)                 (None, 2)            258         dense_2[0][0]                    \n",
            "==================================================================================================\n",
            "Total params: 15,830,722\n",
            "Trainable params: 8,195,458\n",
            "Non-trainable params: 7,635,264\n",
            "__________________________________________________________________________________________________\n"
          ],
          "name": "stdout"
        }
      ]
    },
    {
      "cell_type": "code",
      "metadata": {
        "id": "c9xTsAWxP7pd"
      },
      "source": [
        ""
      ],
      "execution_count": null,
      "outputs": []
    }
  ]
}