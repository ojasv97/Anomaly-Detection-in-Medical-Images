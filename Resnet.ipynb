{
  "nbformat": 4,
  "nbformat_minor": 0,
  "metadata": {
    "colab": {
      "name": "Resnet.ipynb",
      "provenance": [],
      "collapsed_sections": []
    },
    "kernelspec": {
      "name": "python3",
      "display_name": "Python 3"
    },
    "language_info": {
      "name": "python"
    },
    "accelerator": "TPU"
  },
  "cells": [
    {
      "cell_type": "code",
      "metadata": {
        "id": "4dWdQxWRKxnZ",
        "colab": {
          "base_uri": "https://localhost:8080/"
        },
        "outputId": "2b30d1db-ff18-4282-cf52-2b689091a7f9"
      },
      "source": [
        "import pandas as pd\n",
        "import random\n",
        "import numpy as np\n",
        "import os\n",
        "import tensorflow as tf\n",
        "import tensorflow.keras\n",
        "from tensorflow import keras\n",
        "from tensorflow.keras.models import *\n",
        "from tensorflow.keras.layers import *\n",
        "from tensorflow.keras.callbacks import *\n",
        "from tensorflow.keras.optimizers import *\n",
        "import matplotlib.pyplot as plt\n",
        "from tensorflow.keras.layers import Dense,GlobalAveragePooling2D\n",
        "from tensorflow.keras.applications import MobileNet\n",
        "from tensorflow.keras.applications import ResNet50\n",
        "from tensorflow.keras.applications import InceptionV3\n",
        "from tensorflow.keras.preprocessing import image\n",
        "from tensorflow.keras.preprocessing.image import ImageDataGenerator\n",
        "from tensorflow.keras.models import Model\n",
        "from tensorflow.keras.layers import Input\n",
        "from tensorflow.keras.optimizers import Adam\n",
        "from tensorflow.keras.applications.mobilenet import preprocess_input as process_mobilenet\n",
        "from tensorflow.keras.applications.inception_v3 import preprocess_input as process_inception\n",
        "from tensorflow.keras.applications.resnet50 import preprocess_input as process_resnet\n",
        "from tensorflow.keras.applications import VGG16\n",
        "from tensorflow.keras.applications.vgg16 import preprocess_input as process_vgg\n",
        "import itertools\n",
        "\n",
        "import cv2\n",
        "\n",
        "from sklearn.metrics import confusion_matrix, accuracy_score\n",
        "# Start CoLab\n",
        "try:\n",
        "  from google.colab import drive\n",
        "  %tensorflow_version 2.x\n",
        "  drive.mount('/content/drive', force_remount=True)\n",
        "  COLAB = True\n",
        "  print(\"Note: using Google CoLab\")\n",
        "except:\n",
        "  print(\"Note: not using Google CoLab\")\n",
        "  COLAB = False"
      ],
      "execution_count": 1,
      "outputs": [
        {
          "output_type": "stream",
          "text": [
            "Mounted at /content/drive\n",
            "Note: using Google CoLab\n"
          ],
          "name": "stdout"
        }
      ]
    },
    {
      "cell_type": "code",
      "metadata": {
        "id": "lR_ckp4bK65h",
        "colab": {
          "base_uri": "https://localhost:8080/",
          "height": 35
        },
        "outputId": "a241bdcd-a68c-43be-e3a0-2f2f9332c235"
      },
      "source": [
        "import tensorflow as tf\n",
        "tf.test.gpu_device_name()"
      ],
      "execution_count": 2,
      "outputs": [
        {
          "output_type": "execute_result",
          "data": {
            "application/vnd.google.colaboratory.intrinsic+json": {
              "type": "string"
            },
            "text/plain": [
              "''"
            ]
          },
          "metadata": {
            "tags": []
          },
          "execution_count": 2
        }
      ]
    },
    {
      "cell_type": "code",
      "metadata": {
        "id": "SFfzMtYFLU7U"
      },
      "source": [
        "### GENERATOR WRAPPER TO CREATE FAKE LABEL ###\n",
        "\n",
        "def wrap_generator(generator):\n",
        "    \n",
        "    while True:\n",
        "        x,y = next(generator)\n",
        "        y = tf.keras.utils.to_categorical(y)\n",
        "        zeros = tf.zeros_like(y) + tf.constant([1.,0.])\n",
        "        y = tf.concat([y,zeros], axis=0)\n",
        "        yield x,y"
      ],
      "execution_count": 3,
      "outputs": []
    },
    {
      "cell_type": "code",
      "metadata": {
        "id": "wDgZ6OTuuRG9"
      },
      "source": [
        "\n",
        "### CREATE EMPTY GENERATORS ###\n",
        "\n",
        "train_datagen = ImageDataGenerator()\n",
        "test_datagen = ImageDataGenerator()\n",
        "\n",
        "SHAPE = (224,224,3)"
      ],
      "execution_count": 4,
      "outputs": []
    },
    {
      "cell_type": "code",
      "metadata": {
        "id": "P0QCBPo6uVb9",
        "colab": {
          "base_uri": "https://localhost:8080/"
        },
        "outputId": "a340c1ee-12fa-4e5e-ebfe-cb4b0ae39677"
      },
      "source": [
        "### FLOW GENERATORS ###\n",
        "\n",
        "train_generator = train_datagen.flow_from_directory(\n",
        "            '/content/drive/My Drive/Dataset_Project/Dataset 4',\n",
        "            target_size = (SHAPE[0], SHAPE[1]),\n",
        "            batch_size = 256,\n",
        "            class_mode = 'categorical',\n",
        "            shuffle = True,\n",
        "            seed = 33,\n",
        "            classes = ['no']\n",
        "    )\n",
        "\n",
        "test_generator = test_datagen.flow_from_directory(\n",
        "            '/content/drive/My Drive/Dataset_Project/Dataset 2/',\n",
        "            target_size = (SHAPE[0], SHAPE[1]),\n",
        "            batch_size = 256,\n",
        "            class_mode = 'categorical',\n",
        "            shuffle = False,\n",
        "            seed = 33,\n",
        "            classes = ['no','yes']\n",
        ")"
      ],
      "execution_count": 5,
      "outputs": [
        {
          "output_type": "stream",
          "text": [
            "Found 1500 images belonging to 1 classes.\n",
            "Found 253 images belonging to 2 classes.\n"
          ],
          "name": "stdout"
        }
      ]
    },
    {
      "cell_type": "code",
      "metadata": {
        "id": "tZl1nSfBlV45"
      },
      "source": [
        "def set_seed(seed):\n",
        "    \n",
        "    tf.random.set_seed(seed)\n",
        "    os.environ['PYTHONHASHSEED'] = str(seed)\n",
        "    np.random.seed(seed)\n",
        "    random.seed(seed)\n",
        "\n"
      ],
      "execution_count": 6,
      "outputs": []
    },
    {
      "cell_type": "code",
      "metadata": {
        "id": "no5-U0cLj0N-"
      },
      "source": [
        "def get_model(train=True):\n",
        "    set_seed(33)\n",
        "    inp = Input((224,224,3))\n",
        "\n",
        "    resnet = ResNet50(weights = 'imagenet', include_top = False)\n",
        "\n",
        "    for layer in resnet.layers[:-4]:\n",
        "        layer.trainable = False\n",
        "\n",
        "    pre_1 = Lambda(process_resnet)\n",
        "    resnet_process = pre_1(GaussianNoise(0.1)(inp))\n",
        "    res_net = resnet(resnet_process)\n",
        "\n",
        "    noise = Lambda(tf.zeros_like)(res_net)\n",
        "    noise = GaussianNoise(0.1)(noise)\n",
        "\n",
        "    if train:\n",
        "        w = Lambda(lambda z: tf.concat(z, axis=0))([res_net ,noise])\n",
        "        w = Activation('relu')(w)\n",
        "    else:\n",
        "        w = res_net \n",
        "  \n",
        "    x_resnet = GlobalMaxPool2D()(w)\n",
        "    x_resnet = Dense(1024, activation='relu')(x_resnet)\n",
        "\n",
        "    a = x_resnet\n",
        "        \n",
        "    a = Dense(512, activation='relu')(a)\n",
        "    a = Dense(128, activation='relu')(a)\n",
        "    out = Dense(2, activation='softmax')(a)\n",
        " \n",
        "    model = Model(inp, out)\n",
        "    model.compile(Adam(lr=1e-3), loss='binary_crossentropy')\n",
        "    \n",
        "    return model"
      ],
      "execution_count": 7,
      "outputs": []
    },
    {
      "cell_type": "code",
      "metadata": {
        "colab": {
          "base_uri": "https://localhost:8080/"
        },
        "id": "J1ZXRyIMNQp8",
        "outputId": "67a08285-6eb1-47e1-c62b-acac32d48084"
      },
      "source": [
        "print(train_generator.class_indices)\n",
        "print(test_generator.class_indices)"
      ],
      "execution_count": 8,
      "outputs": [
        {
          "output_type": "stream",
          "text": [
            "{'no': 0}\n",
            "{'no': 0, 'yes': 1}\n"
          ],
          "name": "stdout"
        }
      ]
    },
    {
      "cell_type": "code",
      "metadata": {
        "colab": {
          "base_uri": "https://localhost:8080/"
        },
        "id": "ge4UXATr6KVB",
        "outputId": "13eae189-a1b7-4703-b820-266f40554f73"
      },
      "source": [
        "es = EarlyStopping(monitor='val_loss', mode='auto', restore_best_weights=True, verbose=1, patience=5)\n",
        "model = get_model()\n",
        "model.fit(wrap_generator(train_generator), steps_per_epoch=train_generator.samples/train_generator.batch_size, epochs=5)"
      ],
      "execution_count": 9,
      "outputs": [
        {
          "output_type": "stream",
          "text": [
            "Downloading data from https://storage.googleapis.com/tensorflow/keras-applications/resnet/resnet50_weights_tf_dim_ordering_tf_kernels_notop.h5\n",
            "94773248/94765736 [==============================] - 1s 0us/step\n",
            "Epoch 1/5\n",
            "5/5 [==============================] - 278s 47s/step - loss: 1.4135\n",
            "Epoch 2/5\n",
            "5/5 [==============================] - 246s 42s/step - loss: 1.8130\n",
            "Epoch 3/5\n",
            "5/5 [==============================] - 250s 43s/step - loss: 1.5943\n",
            "Epoch 4/5\n",
            "5/5 [==============================] - 243s 42s/step - loss: 0.7385\n",
            "Epoch 5/5\n",
            "5/5 [==============================] - 243s 41s/step - loss: 0.2432\n"
          ],
          "name": "stdout"
        },
        {
          "output_type": "execute_result",
          "data": {
            "text/plain": [
              "<tensorflow.python.keras.callbacks.History at 0x7f40330da690>"
            ]
          },
          "metadata": {
            "tags": []
          },
          "execution_count": 9
        }
      ]
    },
    {
      "cell_type": "code",
      "metadata": {
        "id": "hXf2Q6eU8_ta",
        "colab": {
          "base_uri": "https://localhost:8080/"
        },
        "outputId": "2ff8bd62-c7f5-44e4-ebf9-907ef2e1a50c"
      },
      "source": [
        "  ### RETRIVE TEST LABEL FROM GENERATOR ###\n",
        "\n",
        "test_num = test_generator.samples\n",
        "\n",
        "label_test = []\n",
        "for i in range((test_num // test_generator.batch_size)+1):\n",
        "    X,y = test_generator.next()\n",
        "    label_test.append(y)\n",
        "        \n",
        "label_test = np.argmax(np.vstack(label_test), axis=1)\n",
        "label_test.shape\n",
        "print(label_test)"
      ],
      "execution_count": 10,
      "outputs": [
        {
          "output_type": "stream",
          "text": [
            "[0 0 0 0 0 0 0 0 0 0 0 0 0 0 0 0 0 0 0 0 0 0 0 0 0 0 0 0 0 0 0 0 0 0 0 0 0\n",
            " 0 0 0 0 0 0 0 0 0 0 0 0 0 0 0 0 0 0 0 0 0 0 0 0 0 0 0 0 0 0 0 0 0 0 0 0 0\n",
            " 0 0 0 0 0 0 0 0 0 0 0 0 0 0 0 0 0 0 0 0 0 0 0 0 1 1 1 1 1 1 1 1 1 1 1 1 1\n",
            " 1 1 1 1 1 1 1 1 1 1 1 1 1 1 1 1 1 1 1 1 1 1 1 1 1 1 1 1 1 1 1 1 1 1 1 1 1\n",
            " 1 1 1 1 1 1 1 1 1 1 1 1 1 1 1 1 1 1 1 1 1 1 1 1 1 1 1 1 1 1 1 1 1 1 1 1 1\n",
            " 1 1 1 1 1 1 1 1 1 1 1 1 1 1 1 1 1 1 1 1 1 1 1 1 1 1 1 1 1 1 1 1 1 1 1 1 1\n",
            " 1 1 1 1 1 1 1 1 1 1 1 1 1 1 1 1 1 1 1 1 1 1 1 1 1 1 1 1 1 1 1]\n"
          ],
          "name": "stdout"
        }
      ]
    },
    {
      "cell_type": "code",
      "metadata": {
        "id": "lTcYMk9G_Hsg"
      },
      "source": [
        "### SWITCH TO INFERENCE MODE TO COMPUTE PREDICTIONS ###\n",
        "\n",
        "ineference_model = get_model(train=False)"
      ],
      "execution_count": 11,
      "outputs": []
    },
    {
      "cell_type": "code",
      "metadata": {
        "colab": {
          "base_uri": "https://localhost:8080/"
        },
        "id": "aCd5YySI_bhZ",
        "outputId": "d11d9681-4809-49ab-d4d5-772b08ac4e5b"
      },
      "source": [
        "### COMPUTE PREDICTIONS ON TEST DATA ###\n",
        "\n",
        "pred_test = np.argmax(ineference_model.predict(test_generator), axis=1)\n",
        "print(pred_test)"
      ],
      "execution_count": 12,
      "outputs": [
        {
          "output_type": "stream",
          "text": [
            "[0 0 0 0 0 0 0 0 0 0 0 0 0 0 0 0 0 0 0 0 0 0 0 0 0 0 0 0 0 0 0 0 0 0 0 0 0\n",
            " 0 0 1 0 0 0 0 0 0 0 0 0 0 0 0 0 0 0 0 0 0 0 0 0 0 0 0 0 0 0 0 0 0 0 0 0 0\n",
            " 0 0 0 0 0 0 0 0 0 0 0 0 0 0 0 0 0 0 0 0 0 0 0 0 0 0 0 0 1 0 0 0 0 0 0 0 0\n",
            " 0 1 0 0 0 0 0 0 0 0 0 1 0 0 0 0 0 0 0 0 0 0 0 0 0 0 1 0 0 0 0 0 0 0 0 0 0\n",
            " 0 0 0 0 0 0 0 0 0 0 0 0 0 0 0 0 0 0 0 0 0 0 1 0 1 1 0 0 0 0 0 0 1 0 0 0 0\n",
            " 0 0 0 0 0 0 0 0 0 0 0 0 0 0 0 0 0 0 0 0 0 0 0 0 0 0 0 0 0 0 0 0 0 0 0 0 0\n",
            " 0 0 0 0 0 0 0 0 0 0 0 0 0 0 0 0 0 1 1 0 0 0 0 0 0 0 0 0 1 0 0]\n"
          ],
          "name": "stdout"
        }
      ]
    },
    {
      "cell_type": "code",
      "metadata": {
        "colab": {
          "base_uri": "https://localhost:8080/"
        },
        "id": "k43OtguRBOaw",
        "outputId": "13a2c74e-7fff-48dc-8660-8c9bf3e808f3"
      },
      "source": [
        "\n",
        "### ACCURACY ON TEST DATA ###\n",
        "\n",
        "print('ACCURACY:', accuracy_score(label_test, pred_test))"
      ],
      "execution_count": 13,
      "outputs": [
        {
          "output_type": "stream",
          "text": [
            "ACCURACY: 0.4268774703557312\n"
          ],
          "name": "stdout"
        }
      ]
    },
    {
      "cell_type": "code",
      "metadata": {
        "id": "fHEgvLvFBSrb"
      },
      "source": [
        "def plot_confusion_matrix(cm, classes, title='Confusion matrix', cmap=plt.cm.Blues):\n",
        "\n",
        "    cm = cm.astype('float') / cm.sum(axis=1)[:, np.newaxis]\n",
        "\n",
        "    plt.imshow(cm, interpolation='nearest', cmap=cmap)\n",
        "    plt.title(title, fontsize=25)\n",
        "    #plt.colorbar()\n",
        "    tick_marks = np.arange(len(classes))\n",
        "    plt.xticks(tick_marks, classes, rotation=90, fontsize=15)\n",
        "    plt.yticks(tick_marks, classes, fontsize=15)\n",
        "\n",
        "    fmt = '.2f'\n",
        "    thresh = cm.max() / 2.\n",
        "    for i, j in itertools.product(range(cm.shape[0]), range(cm.shape[1])):\n",
        "        plt.text(j, i, format(cm[i, j], fmt),\n",
        "                 horizontalalignment=\"center\",\n",
        "                 color=\"white\" if cm[i, j] > thresh else \"black\", fontsize = 14)\n",
        "\n",
        "    plt.ylabel('True label', fontsize=20)\n",
        "    plt.xlabel('Predicted label', fontsize=20)"
      ],
      "execution_count": null,
      "outputs": []
    },
    {
      "cell_type": "code",
      "metadata": {
        "colab": {
          "base_uri": "https://localhost:8080/",
          "height": 495
        },
        "id": "KEehsx5QCPDh",
        "outputId": "d7d88d2c-dda0-487c-816c-754730f3cc03"
      },
      "source": [
        "### CONFUSION MATRIX ON TEST DATA ###\n",
        "\n",
        "cnf_matrix = confusion_matrix(label_test, pred_test)\n",
        "\n",
        "plt.figure(figsize=(7,7))\n",
        "plot_confusion_matrix(cnf_matrix, classes=['YES','NO'])\n",
        "plt.show()"
      ],
      "execution_count": null,
      "outputs": [
        {
          "output_type": "display_data",
          "data": {
            "image/png": "[encoded data removed]",
            "text/plain": [
              "<Figure size 504x504 with 1 Axes>"
            ]
          },
          "metadata": {
            "tags": [],
            "needs_background": "light"
          }
        }
      ]
    },
    {
      "cell_type": "code",
      "metadata": {
        "id": "qe6F_q-7CSFP",
        "colab": {
          "base_uri": "https://localhost:8080/"
        },
        "outputId": "dec2cc00-6e0d-42bb-9ff1-1b97f0ac468e"
      },
      "source": [
        "from sklearn .metrics import roc_auc_score \n",
        "from sklearn import metrics\n",
        "print(roc_auc_score(label_test,pred_test))"
      ],
      "execution_count": null,
      "outputs": [
        {
          "output_type": "stream",
          "text": [
            "0.5303818301514155\n"
          ],
          "name": "stdout"
        }
      ]
    },
    {
      "cell_type": "code",
      "metadata": {
        "id": "ALiBkIeqhx6p",
        "colab": {
          "base_uri": "https://localhost:8080/"
        },
        "outputId": "1db20e0c-2d71-441f-8f51-543ad076a919"
      },
      "source": [
        "resnet = get_model()\n",
        "resnet.summary()"
      ],
      "execution_count": null,
      "outputs": [
        {
          "output_type": "stream",
          "text": [
            "Model: \"model_2\"\n",
            "__________________________________________________________________________________________________\n",
            "Layer (type)                    Output Shape         Param #     Connected to                     \n",
            "==================================================================================================\n",
            "input_5 (InputLayer)            [(None, 224, 224, 3) 0                                            \n",
            "__________________________________________________________________________________________________\n",
            "gaussian_noise_4 (GaussianNoise (None, 224, 224, 3)  0           input_5[0][0]                    \n",
            "__________________________________________________________________________________________________\n",
            "lambda_5 (Lambda)               (None, 224, 224, 3)  0           gaussian_noise_4[0][0]           \n",
            "__________________________________________________________________________________________________\n",
            "resnet50 (Functional)           (None, None, None, 2 23587712    lambda_5[0][0]                   \n",
            "__________________________________________________________________________________________________\n",
            "lambda_6 (Lambda)               (None, 7, 7, 2048)   0           resnet50[0][0]                   \n",
            "__________________________________________________________________________________________________\n",
            "gaussian_noise_5 (GaussianNoise (None, 7, 7, 2048)   0           lambda_6[0][0]                   \n",
            "__________________________________________________________________________________________________\n",
            "lambda_7 (Lambda)               (None, 7, 7, 2048)   0           resnet50[0][0]                   \n",
            "                                                                 gaussian_noise_5[0][0]           \n",
            "__________________________________________________________________________________________________\n",
            "activation_1 (Activation)       (None, 7, 7, 2048)   0           lambda_7[0][0]                   \n",
            "__________________________________________________________________________________________________\n",
            "global_max_pooling2d_2 (GlobalM (None, 2048)         0           activation_1[0][0]               \n",
            "__________________________________________________________________________________________________\n",
            "dense_8 (Dense)                 (None, 1024)         2098176     global_max_pooling2d_2[0][0]     \n",
            "__________________________________________________________________________________________________\n",
            "dense_9 (Dense)                 (None, 512)          524800      dense_8[0][0]                    \n",
            "__________________________________________________________________________________________________\n",
            "dense_10 (Dense)                (None, 128)          65664       dense_9[0][0]                    \n",
            "__________________________________________________________________________________________________\n",
            "dense_11 (Dense)                (None, 2)            258         dense_10[0][0]                   \n",
            "==================================================================================================\n",
            "Total params: 26,276,610\n",
            "Trainable params: 3,743,618\n",
            "Non-trainable params: 22,532,992\n",
            "__________________________________________________________________________________________________\n"
          ],
          "name": "stdout"
        }
      ]
    },
    {
      "cell_type": "code",
      "metadata": {
        "id": "oyuX1d9zb8eL"
      },
      "source": [
        ""
      ],
      "execution_count": null,
      "outputs": []
    }
  ]
}