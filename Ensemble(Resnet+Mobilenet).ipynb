{
  "nbformat": 4,
  "nbformat_minor": 0,
  "metadata": {
    "colab": {
      "name": "Ensemble(Resnet+Mobilenet).ipynb",
      "provenance": [],
      "collapsed_sections": []
    },
    "kernelspec": {
      "name": "python3",
      "display_name": "Python 3"
    },
    "language_info": {
      "name": "python"
    },
    "accelerator": "TPU"
  },
  "cells": [
    {
      "cell_type": "code",
      "metadata": {
        "id": "4dWdQxWRKxnZ",
        "colab": {
          "base_uri": "https://localhost:8080/"
        },
        "outputId": "90901294-48c5-49d7-f972-a6645482f9f8"
      },
      "source": [
        "import pandas as pd\n",
        "import random\n",
        "import numpy as np\n",
        "import os\n",
        "import tensorflow as tf\n",
        "import tensorflow.keras\n",
        "from tensorflow import keras\n",
        "from tensorflow.keras.models import *\n",
        "from tensorflow.keras.layers import *\n",
        "from tensorflow.keras.callbacks import *\n",
        "from tensorflow.keras.optimizers import *\n",
        "import matplotlib.pyplot as plt\n",
        "from tensorflow.keras.layers import Dense,GlobalAveragePooling2D\n",
        "from tensorflow.keras.applications import MobileNet\n",
        "from tensorflow.keras.applications import ResNet50\n",
        "from tensorflow.keras.preprocessing import image\n",
        "from tensorflow.keras.preprocessing.image import ImageDataGenerator\n",
        "from tensorflow.keras.models import Model\n",
        "from tensorflow.keras.layers import Input\n",
        "from tensorflow.keras.optimizers import Adam\n",
        "from tensorflow.keras.applications.mobilenet import preprocess_input as process_mobilenet\n",
        "from tensorflow.keras.applications.resnet50 import preprocess_input as process_resnet\n",
        "from tensorflow.keras.applications import VGG16\n",
        "from tensorflow.keras.applications.vgg16 import preprocess_input as process_vgg\n",
        "import itertools\n",
        "\n",
        "import cv2\n",
        "\n",
        "from sklearn.metrics import confusion_matrix, accuracy_score\n",
        "# Start CoLab\n",
        "try:\n",
        "  from google.colab import drive\n",
        "  %tensorflow_version 2.x\n",
        "  drive.mount('/content/drive', force_remount=True)\n",
        "  COLAB = True\n",
        "  print(\"Note: using Google CoLab\")\n",
        "except:\n",
        "  print(\"Note: not using Google CoLab\")\n",
        "  COLAB = False"
      ],
      "execution_count": 1,
      "outputs": [
        {
          "output_type": "stream",
          "text": [
            "Mounted at /content/drive\n",
            "Note: using Google CoLab\n"
          ],
          "name": "stdout"
        }
      ]
    },
    {
      "cell_type": "code",
      "metadata": {
        "id": "lR_ckp4bK65h",
        "colab": {
          "base_uri": "https://localhost:8080/",
          "height": 35
        },
        "outputId": "b0187814-96e8-4ff4-a4d2-272cd79d1352"
      },
      "source": [
        "import tensorflow as tf\n",
        "tf.test.gpu_device_name()"
      ],
      "execution_count": 2,
      "outputs": [
        {
          "output_type": "execute_result",
          "data": {
            "application/vnd.google.colaboratory.intrinsic+json": {
              "type": "string"
            },
            "text/plain": [
              "''"
            ]
          },
          "metadata": {
            "tags": []
          },
          "execution_count": 2
        }
      ]
    },
    {
      "cell_type": "code",
      "metadata": {
        "id": "SFfzMtYFLU7U"
      },
      "source": [
        "def wrap_generator(generator):\n",
        "    while True:\n",
        "        x,y = next(generator)\n",
        "        y = tf.keras.utils.to_categorical(y)\n",
        "        zeros = tf.zeros_like(y) + tf.constant([1.,0.])\n",
        "        y = tf.concat([y,zeros], axis=0)\n",
        "        yield x,y"
      ],
      "execution_count": 3,
      "outputs": []
    },
    {
      "cell_type": "code",
      "metadata": {
        "id": "tZl1nSfBlV45"
      },
      "source": [
        "def set_seed(seed):\n",
        "    tf.random.set_seed(seed)\n",
        "    os.environ['PYTHONHASHSEED'] = str(seed)\n",
        "    np.random.seed(seed)\n",
        "    random.seed(seed)\n",
        "\n"
      ],
      "execution_count": 4,
      "outputs": []
    },
    {
      "cell_type": "code",
      "metadata": {
        "id": "no5-U0cLj0N-"
      },
      "source": [
        "def get_model(train=True):\n",
        "    set_seed(33)\n",
        "    inp = Input((224,224,3))\n",
        "\n",
        "\n",
        "    mobilenet = MobileNet(weights = 'imagenet', include_top = False)\n",
        "    resnet = ResNet50(weights = 'imagenet', include_top = False)\n",
        "\n",
        "    for layer in mobilenet.layers[:-4]:\n",
        "        layer.trainable = False\n",
        "\n",
        "    for layer in resnet.layers[:-4]:\n",
        "        layer.trainable = False\n",
        "\n",
        "    pre_1 = Lambda(process_mobilenet)\n",
        "    mobilenet_process = pre_1(GaussianNoise(0.1)(inp))\n",
        "    mobile_net = mobilenet(mobilenet_process)\n",
        "\n",
        "    noise = Lambda(tf.zeros_like)(mobile_net)\n",
        "    noise = GaussianNoise(0.1)(noise)\n",
        "\n",
        "    if train:\n",
        "        x = Lambda(lambda z: tf.concat(z, axis=0))([mobile_net,noise])\n",
        "        x = Activation('relu')(x)\n",
        "    else:\n",
        "        x = mobile_net\n",
        "\n",
        "    x_mobilenet = GlobalMaxPool2D()(x)\n",
        "    x_mobilenet = Dense(1024, activation='relu')(x_mobilenet)\n",
        "\n",
        "    pre_2 = Lambda(process_resnet)\n",
        "    resnet_process = pre_2(GaussianNoise(0.1)(inp))\n",
        "    res_net = resnet(resnet_process)\n",
        "\n",
        "    noise = Lambda(tf.zeros_like)(res_net)\n",
        "    noise = GaussianNoise(0.1)(noise)\n",
        "\n",
        "    if train:\n",
        "        w = Lambda(lambda z: tf.concat(z, axis=0))([res_net ,noise])\n",
        "        w = Activation('relu')(w)\n",
        "    else:\n",
        "        w = res_net \n",
        "  \n",
        "    x_resnet = GlobalMaxPool2D()(w)\n",
        "    x_resnet = Dense(1024, activation='relu')(x_resnet)\n",
        "\n",
        "\n",
        "    a = Average()([x_mobilenet, x_resnet])\n",
        "        \n",
        "    a = Dense(512, activation='relu')(a)\n",
        "    a = Dense(128, activation='relu')(a)\n",
        "    out = Dense(2, activation='softmax')(a)\n",
        " \n",
        "    model = Model(inp, out)\n",
        "    model.compile(Adam(lr=1e-3), loss='binary_crossentropy')\n",
        "    \n",
        "    return model"
      ],
      "execution_count": 5,
      "outputs": []
    },
    {
      "cell_type": "code",
      "metadata": {
        "id": "mdCvMfZHLZWt"
      },
      "source": [
        "\n",
        "### CREATE EMPTY GENERATORS ###\n",
        "\n",
        "train_datagen = ImageDataGenerator()\n",
        "test_datagen = ImageDataGenerator()\n",
        "\n",
        "SHAPE = (224,224,3)"
      ],
      "execution_count": 6,
      "outputs": []
    },
    {
      "cell_type": "code",
      "metadata": {
        "id": "7wKLZ2lIfUke",
        "colab": {
          "base_uri": "https://localhost:8080/"
        },
        "outputId": "d4c721cd-2a68-45e8-d5d7-406b2822684d"
      },
      "source": [
        "### FLOW GENERATORS ###\n",
        "\n",
        "train_generator = train_datagen.flow_from_directory(\n",
        "            '/content/drive/My Drive/Dataset_Project/Dataset 4',\n",
        "            target_size = (SHAPE[0], SHAPE[1]),\n",
        "            batch_size = 256,\n",
        "            class_mode = 'categorical',\n",
        "            shuffle = True,\n",
        "            seed = 33,\n",
        "            classes = ['no']\n",
        "    )\n",
        "\n",
        "test_generator = test_datagen.flow_from_directory(\n",
        "            '/content/drive/My Drive/Dataset_Project/Dataset 2/',\n",
        "            target_size = (SHAPE[0], SHAPE[1]),\n",
        "            batch_size = 256,\n",
        "            class_mode = 'categorical',\n",
        "            shuffle = False,\n",
        "            seed = 33,\n",
        "            classes = ['no','yes']\n",
        ")"
      ],
      "execution_count": 7,
      "outputs": [
        {
          "output_type": "stream",
          "text": [
            "Found 1500 images belonging to 1 classes.\n",
            "Found 253 images belonging to 2 classes.\n"
          ],
          "name": "stdout"
        }
      ]
    },
    {
      "cell_type": "code",
      "metadata": {
        "colab": {
          "base_uri": "https://localhost:8080/"
        },
        "id": "J1ZXRyIMNQp8",
        "outputId": "0ff6f0f3-3c1c-4814-b67f-fdda69904f97"
      },
      "source": [
        "print(train_generator.class_indices)\n",
        "print(test_generator.class_indices)"
      ],
      "execution_count": 8,
      "outputs": [
        {
          "output_type": "stream",
          "text": [
            "{'no': 0}\n",
            "{'no': 0, 'yes': 1}\n"
          ],
          "name": "stdout"
        }
      ]
    },
    {
      "cell_type": "code",
      "metadata": {
        "colab": {
          "base_uri": "https://localhost:8080/"
        },
        "id": "ge4UXATr6KVB",
        "outputId": "8d5b9e3f-0bba-4d35-fe92-0c37acf339ef"
      },
      "source": [
        "# es = EarlyStopping(monitor='val_loss', mode='auto', restore_best_weights=True, verbose=1, patience=5)\n",
        "\n",
        "model = get_model()\n",
        "model.fit(wrap_generator(train_generator), steps_per_epoch=train_generator.samples/train_generator.batch_size, epochs=5)"
      ],
      "execution_count": 9,
      "outputs": [
        {
          "output_type": "stream",
          "text": [
            "WARNING:tensorflow:`input_shape` is undefined or non-square, or `rows` is not in [128, 160, 192, 224]. Weights for input shape (224, 224) will be loaded as the default.\n",
            "Downloading data from https://storage.googleapis.com/tensorflow/keras-applications/mobilenet/mobilenet_1_0_224_tf_no_top.h5\n",
            "17227776/17225924 [==============================] - 0s 0us/step\n",
            "Downloading data from https://storage.googleapis.com/tensorflow/keras-applications/resnet/resnet50_weights_tf_dim_ordering_tf_kernels_notop.h5\n",
            "94773248/94765736 [==============================] - 1s 0us/step\n",
            "Epoch 1/5\n",
            "5/5 [==============================] - 316s 53s/step - loss: 1.1756\n",
            "Epoch 2/5\n",
            "5/5 [==============================] - 302s 52s/step - loss: 0.9616\n",
            "Epoch 3/5\n",
            "5/5 [==============================] - 305s 52s/step - loss: 0.8537\n",
            "Epoch 4/5\n",
            "5/5 [==============================] - 302s 51s/step - loss: 0.6498\n",
            "Epoch 5/5\n",
            "5/5 [==============================] - 309s 53s/step - loss: 0.2375\n"
          ],
          "name": "stdout"
        },
        {
          "output_type": "execute_result",
          "data": {
            "text/plain": [
              "<tensorflow.python.keras.callbacks.History at 0x7fd3e0b95cd0>"
            ]
          },
          "metadata": {
            "tags": []
          },
          "execution_count": 9
        }
      ]
    },
    {
      "cell_type": "code",
      "metadata": {
        "id": "hXf2Q6eU8_ta",
        "colab": {
          "base_uri": "https://localhost:8080/"
        },
        "outputId": "ef6be367-4bff-4d53-bde4-155d8f546664"
      },
      "source": [
        "  ### RETRIVE TEST LABEL FROM GENERATOR ###\n",
        "\n",
        "test_num = test_generator.samples\n",
        "\n",
        "label_test = []\n",
        "for i in range((test_num // test_generator.batch_size)+1):\n",
        "    X,y = test_generator.next()\n",
        "    label_test.append(y)\n",
        "        \n",
        "label_test = np.argmax(np.vstack(label_test), axis=1)\n",
        "label_test.shape\n",
        "print(label_test)"
      ],
      "execution_count": 10,
      "outputs": [
        {
          "output_type": "stream",
          "text": [
            "[0 0 0 0 0 0 0 0 0 0 0 0 0 0 0 0 0 0 0 0 0 0 0 0 0 0 0 0 0 0 0 0 0 0 0 0 0\n",
            " 0 0 0 0 0 0 0 0 0 0 0 0 0 0 0 0 0 0 0 0 0 0 0 0 0 0 0 0 0 0 0 0 0 0 0 0 0\n",
            " 0 0 0 0 0 0 0 0 0 0 0 0 0 0 0 0 0 0 0 0 0 0 0 0 1 1 1 1 1 1 1 1 1 1 1 1 1\n",
            " 1 1 1 1 1 1 1 1 1 1 1 1 1 1 1 1 1 1 1 1 1 1 1 1 1 1 1 1 1 1 1 1 1 1 1 1 1\n",
            " 1 1 1 1 1 1 1 1 1 1 1 1 1 1 1 1 1 1 1 1 1 1 1 1 1 1 1 1 1 1 1 1 1 1 1 1 1\n",
            " 1 1 1 1 1 1 1 1 1 1 1 1 1 1 1 1 1 1 1 1 1 1 1 1 1 1 1 1 1 1 1 1 1 1 1 1 1\n",
            " 1 1 1 1 1 1 1 1 1 1 1 1 1 1 1 1 1 1 1 1 1 1 1 1 1 1 1 1 1 1 1]\n"
          ],
          "name": "stdout"
        }
      ]
    },
    {
      "cell_type": "code",
      "metadata": {
        "colab": {
          "base_uri": "https://localhost:8080/"
        },
        "id": "lTcYMk9G_Hsg",
        "outputId": "b7e8c050-5b13-4db5-fb11-6e1ea8717c70"
      },
      "source": [
        "### SWITCH TO INFERENCE MODE TO COMPUTE PREDICTIONS ###\n",
        "\n",
        "ineference_model = get_model(train=False)\n",
        "# ineference_model.set_weights(model.get_weights())"
      ],
      "execution_count": 11,
      "outputs": [
        {
          "output_type": "stream",
          "text": [
            "WARNING:tensorflow:`input_shape` is undefined or non-square, or `rows` is not in [128, 160, 192, 224]. Weights for input shape (224, 224) will be loaded as the default.\n"
          ],
          "name": "stdout"
        }
      ]
    },
    {
      "cell_type": "code",
      "metadata": {
        "colab": {
          "base_uri": "https://localhost:8080/"
        },
        "id": "aCd5YySI_bhZ",
        "outputId": "22eaebfb-1acc-43f0-e920-2b0a1c8157b5"
      },
      "source": [
        "### COMPUTE PREDICTIONS ON TEST DATA ###\n",
        "\n",
        "pred_test = np.argmax(ineference_model.predict(test_generator), axis=1)\n",
        "print(pred_test)"
      ],
      "execution_count": 12,
      "outputs": [
        {
          "output_type": "stream",
          "text": [
            "[1 1 0 1 1 0 1 0 0 0 0 1 0 0 1 0 0 0 0 0 0 0 1 0 0 1 0 0 1 0 0 1 0 0 0 1 0\n",
            " 0 1 1 0 1 0 0 1 1 1 0 1 1 1 1 1 1 0 0 1 0 1 0 0 0 0 0 1 0 0 0 1 0 0 0 0 1\n",
            " 0 0 1 0 1 0 0 0 0 0 1 0 1 1 0 1 0 1 1 1 0 1 1 1 0 1 0 1 0 1 1 1 1 1 1 0 0\n",
            " 1 1 0 1 0 0 0 1 1 0 1 1 1 1 1 1 0 1 1 0 0 1 1 1 0 1 0 1 1 0 0 1 0 1 1 1 0\n",
            " 1 1 1 1 1 1 1 0 0 1 1 0 1 1 1 0 0 1 1 0 1 1 0 1 1 1 0 0 0 0 0 1 0 1 1 0 1\n",
            " 0 1 1 0 0 1 0 1 0 1 1 1 1 1 0 1 1 0 1 1 1 0 1 0 1 1 1 0 1 0 0 1 0 1 0 0 0\n",
            " 1 1 0 1 0 1 0 0 0 0 1 0 0 1 0 1 1 0 0 0 1 1 0 0 0 1 1 1 1 1 1]\n"
          ],
          "name": "stdout"
        }
      ]
    },
    {
      "cell_type": "code",
      "metadata": {
        "colab": {
          "base_uri": "https://localhost:8080/"
        },
        "id": "k43OtguRBOaw",
        "outputId": "19099573-d8c2-4813-d0bb-79e970d40906"
      },
      "source": [
        "\n",
        "### ACCURACY ON TEST DATA ###\n",
        "\n",
        "print('ACCURACY:', accuracy_score(label_test, pred_test))"
      ],
      "execution_count": 13,
      "outputs": [
        {
          "output_type": "stream",
          "text": [
            "ACCURACY: 0.5849802371541502\n"
          ],
          "name": "stdout"
        }
      ]
    },
    {
      "cell_type": "code",
      "metadata": {
        "id": "fHEgvLvFBSrb",
        "colab": {
          "base_uri": "https://localhost:8080/",
          "height": 238
        },
        "outputId": "eb08741a-03d6-4dc1-e2a1-be74b9264399"
      },
      "source": [
        "def plot_confusion_matrix(cm, classes, title='Confusion matrix', cmap=plt.cm.Blues):\n",
        "\n",
        "    cm = cm.astype('float') / cm.sum(axis=1)[:, np.newaxis]\n",
        "\n",
        "    plt.imshow(cm, interpolation='nearest', cmap=cmap)\n",
        "    plt.title(title, fontsize=25)\n",
        "    #plt.colorbar()\n",
        "    tick_marks = np.arange(len(classes))\n",
        "    plt.xticks(tick_marks, classes, rotation=90, fontsize=15)\n",
        "    plt.yticks(tick_marks, classes, fontsize=15)\n",
        "\n",
        "    fmt = '.2f'\n",
        "    thresh = cm.max() / 2.\n",
        "    for i, j in itertools.product(range(cm.shape[0]), range(cm.shape[1])):\n",
        "        plt.text(j, i, format(cm[i, j], fmt),\n",
        "                 horizontalalignment=\"center\",\n",
        "                 color=\"white\" if cm[i, j] > thresh else \"black\", fontsize = 14)\n",
        "\n",
        "    plt.ylabel('True label', fontsize=20)\n",
        "    plt.xlabel('Predicted label', fontsize=20)"
      ],
      "execution_count": 1,
      "outputs": [
        {
          "output_type": "error",
          "ename": "NameError",
          "evalue": "ignored",
          "traceback": [
            "\u001b[0;31m---------------------------------------------------------------------------\u001b[0m",
            "\u001b[0;31mNameError\u001b[0m                                 Traceback (most recent call last)",
            "\u001b[0;32m<ipython-input-1-28e7e30823f4>\u001b[0m in \u001b[0;36m<module>\u001b[0;34m()\u001b[0m\n\u001b[0;32m----> 1\u001b[0;31m \u001b[0;32mdef\u001b[0m \u001b[0mplot_confusion_matrix\u001b[0m\u001b[0;34m(\u001b[0m\u001b[0mcm\u001b[0m\u001b[0;34m,\u001b[0m \u001b[0mclasses\u001b[0m\u001b[0;34m,\u001b[0m \u001b[0mtitle\u001b[0m\u001b[0;34m=\u001b[0m\u001b[0;34m'Confusion matrix'\u001b[0m\u001b[0;34m,\u001b[0m \u001b[0mcmap\u001b[0m\u001b[0;34m=\u001b[0m\u001b[0mplt\u001b[0m\u001b[0;34m.\u001b[0m\u001b[0mcm\u001b[0m\u001b[0;34m.\u001b[0m\u001b[0mBlues\u001b[0m\u001b[0;34m)\u001b[0m\u001b[0;34m:\u001b[0m\u001b[0;34m\u001b[0m\u001b[0;34m\u001b[0m\u001b[0m\n\u001b[0m\u001b[1;32m      2\u001b[0m \u001b[0;34m\u001b[0m\u001b[0m\n\u001b[1;32m      3\u001b[0m     \u001b[0mcm\u001b[0m \u001b[0;34m=\u001b[0m \u001b[0mcm\u001b[0m\u001b[0;34m.\u001b[0m\u001b[0mastype\u001b[0m\u001b[0;34m(\u001b[0m\u001b[0;34m'float'\u001b[0m\u001b[0;34m)\u001b[0m \u001b[0;34m/\u001b[0m \u001b[0mcm\u001b[0m\u001b[0;34m.\u001b[0m\u001b[0msum\u001b[0m\u001b[0;34m(\u001b[0m\u001b[0maxis\u001b[0m\u001b[0;34m=\u001b[0m\u001b[0;36m1\u001b[0m\u001b[0;34m)\u001b[0m\u001b[0;34m[\u001b[0m\u001b[0;34m:\u001b[0m\u001b[0;34m,\u001b[0m \u001b[0mnp\u001b[0m\u001b[0;34m.\u001b[0m\u001b[0mnewaxis\u001b[0m\u001b[0;34m]\u001b[0m\u001b[0;34m\u001b[0m\u001b[0;34m\u001b[0m\u001b[0m\n\u001b[1;32m      4\u001b[0m \u001b[0;34m\u001b[0m\u001b[0m\n\u001b[1;32m      5\u001b[0m     \u001b[0mplt\u001b[0m\u001b[0;34m.\u001b[0m\u001b[0mimshow\u001b[0m\u001b[0;34m(\u001b[0m\u001b[0mcm\u001b[0m\u001b[0;34m,\u001b[0m \u001b[0minterpolation\u001b[0m\u001b[0;34m=\u001b[0m\u001b[0;34m'nearest'\u001b[0m\u001b[0;34m,\u001b[0m \u001b[0mcmap\u001b[0m\u001b[0;34m=\u001b[0m\u001b[0mcmap\u001b[0m\u001b[0;34m)\u001b[0m\u001b[0;34m\u001b[0m\u001b[0;34m\u001b[0m\u001b[0m\n",
            "\u001b[0;31mNameError\u001b[0m: name 'plt' is not defined"
          ]
        }
      ]
    },
    {
      "cell_type": "code",
      "metadata": {
        "colab": {
          "base_uri": "https://localhost:8080/",
          "height": 495
        },
        "id": "KEehsx5QCPDh",
        "outputId": "f51609a2-2b3f-4fb3-b7ea-0ec1662c8a90"
      },
      "source": [
        "### CONFUSION MATRIX ON TEST DATA ###\n",
        "\n",
        "cnf_matrix = confusion_matrix(label_test, pred_test)\n",
        "\n",
        "plt.figure(figsize=(7,7))\n",
        "plot_confusion_matrix(cnf_matrix, classes=['YES','NO'])\n",
        "plt.show()"
      ],
      "execution_count": 15,
      "outputs": [
        {
          "output_type": "display_data",
          "data": {
            "image/png": "[encoded data removed]",
            "text/plain": [
              "<Figure size 504x504 with 1 Axes>"
            ]
          },
          "metadata": {
            "tags": [],
            "needs_background": "light"
          }
        }
      ]
    },
    {
      "cell_type": "code",
      "metadata": {
        "id": "qe6F_q-7CSFP",
        "colab": {
          "base_uri": "https://localhost:8080/"
        },
        "outputId": "bc10cd65-1b81-434b-f57e-7795e3433859"
      },
      "source": [
        "from sklearn .metrics import roc_auc_score \n",
        "from sklearn import metrics\n",
        "print(roc_auc_score(label_test,pred_test))"
      ],
      "execution_count": null,
      "outputs": [
        {
          "output_type": "stream",
          "text": [
            "0.5843647136273864\n"
          ],
          "name": "stdout"
        }
      ]
    },
    {
      "cell_type": "code",
      "metadata": {
        "id": "ALiBkIeqhx6p"
      },
      "source": [
        ""
      ],
      "execution_count": null,
      "outputs": []
    }
  ]
}