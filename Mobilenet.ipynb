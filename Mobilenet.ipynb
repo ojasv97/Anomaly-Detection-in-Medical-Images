{
  "nbformat": 4,
  "nbformat_minor": 0,
  "metadata": {
    "colab": {
      "name": "Mobilenet.ipynb",
      "provenance": [],
      "collapsed_sections": []
    },
    "kernelspec": {
      "name": "python3",
      "display_name": "Python 3"
    },
    "language_info": {
      "name": "python"
    },
    "accelerator": "TPU"
  },
  "cells": [
    {
      "cell_type": "code",
      "metadata": {
        "id": "4dWdQxWRKxnZ",
        "colab": {
          "base_uri": "https://localhost:8080/"
        },
        "outputId": "b17e58a9-d566-4dc6-8bd7-82d669772c57"
      },
      "source": [
        "import pandas as pd\n",
        "import random\n",
        "import numpy as np\n",
        "import os\n",
        "import tensorflow.keras\n",
        "from tensorflow import keras\n",
        "from tensorflow.keras.models import *\n",
        "from tensorflow.keras.layers import *\n",
        "from tensorflow.keras.callbacks import *\n",
        "from tensorflow.keras.optimizers import *\n",
        "import matplotlib.pyplot as plt\n",
        "from tensorflow.keras.layers import Dense,GlobalAveragePooling2D\n",
        "from tensorflow.keras.applications import MobileNet\n",
        "from tensorflow.keras.applications import ResNet50\n",
        "from tensorflow.keras.applications import InceptionV3\n",
        "from tensorflow.keras.preprocessing import image\n",
        "from tensorflow.keras.preprocessing.image import ImageDataGenerator\n",
        "from tensorflow.keras.models import Model\n",
        "from tensorflow.keras.layers import Input\n",
        "from tensorflow.keras.optimizers import Adam\n",
        "from tensorflow.keras.applications.mobilenet import preprocess_input as process_mobilenet\n",
        "from tensorflow.keras.applications.inception_v3 import preprocess_input as process_inception\n",
        "from tensorflow.keras.applications.resnet50 import preprocess_input as process_resnet\n",
        "from tensorflow.keras.applications import VGG16\n",
        "from tensorflow.keras.applications.vgg16 import preprocess_input as process_vgg\n",
        "import itertools\n",
        "\n",
        "import cv2\n",
        "\n",
        "from sklearn.metrics import confusion_matrix, accuracy_score\n",
        "# Start CoLab\n",
        "try:\n",
        "  from google.colab import drive\n",
        "  %tensorflow_version 2.x\n",
        "  drive.mount('/content/drive', force_remount=True)\n",
        "  COLAB = True\n",
        "  print(\"Note: using Google CoLab\")\n",
        "except:\n",
        "  print(\"Note: not using Google CoLab\")\n",
        "  COLAB = False"
      ],
      "execution_count": 1,
      "outputs": [
        {
          "output_type": "stream",
          "text": [
            "Mounted at /content/drive\n",
            "Note: using Google CoLab\n"
          ],
          "name": "stdout"
        }
      ]
    },
    {
      "cell_type": "code",
      "metadata": {
        "id": "lR_ckp4bK65h",
        "colab": {
          "base_uri": "https://localhost:8080/",
          "height": 35
        },
        "outputId": "4abbc5b2-b0a4-475b-fca1-ec2411bf5ad1"
      },
      "source": [
        "import tensorflow as tf\n",
        "tf.test.gpu_device_name()"
      ],
      "execution_count": 10,
      "outputs": [
        {
          "output_type": "execute_result",
          "data": {
            "application/vnd.google.colaboratory.intrinsic+json": {
              "type": "string"
            },
            "text/plain": [
              "''"
            ]
          },
          "metadata": {
            "tags": []
          },
          "execution_count": 10
        }
      ]
    },
    {
      "cell_type": "code",
      "metadata": {
        "id": "SFfzMtYFLU7U"
      },
      "source": [
        "def wrap_generator(generator):\n",
        "    \n",
        "    while True:\n",
        "        x,y = next(generator)\n",
        "        y = tf.keras.utils.to_categorical(y)\n",
        "        zeros = tf.zeros_like(y) + tf.constant([1.,0.])\n",
        "        y = tf.concat([y,zeros], axis=0)\n",
        "        yield x,y"
      ],
      "execution_count": 11,
      "outputs": []
    },
    {
      "cell_type": "code",
      "metadata": {
        "id": "tZl1nSfBlV45"
      },
      "source": [
        "def set_seed(seed):\n",
        "    \n",
        "    tf.random.set_seed(seed)\n",
        "    os.environ['PYTHONHASHSEED'] = str(seed)\n",
        "    np.random.seed(seed)\n",
        "    random.seed(seed)\n",
        "\n"
      ],
      "execution_count": 12,
      "outputs": []
    },
    {
      "cell_type": "code",
      "metadata": {
        "id": "no5-U0cLj0N-"
      },
      "source": [
        "def get_model(train=True):\n",
        "    set_seed(33)\n",
        "    inp = Input((224,224,3))\n",
        "\n",
        "    pre_1 = Lambda(process_mobilenet)\n",
        "\n",
        "    mobilenet = MobileNet(weights = 'imagenet', include_top = False)\n",
        "\n",
        "    for layer in mobilenet.layers[:-4]:\n",
        "        layer.trainable = False\n",
        "\n",
        "    mobilenet_process = pre_1(GaussianNoise(0.1)(inp))\n",
        "    mobile_net = mobilenet(mobilenet_process)\n",
        "\n",
        "    noise = Lambda(tf.zeros_like)(mobile_net)\n",
        "    noise = GaussianNoise(0.1)(noise)\n",
        "\n",
        "    if train:\n",
        "        x = Lambda(lambda z: tf.concat(z, axis=0))([mobile_net,noise])\n",
        "        x = Activation('relu')(x)\n",
        "    else:\n",
        "        x = mobile_net\n",
        "\n",
        "    x_mobilenet = GlobalMaxPool2D()(x)\n",
        "    x_mobilenet = Dense(1024, activation='relu')(x_mobilenet)\n",
        "    a = x_mobilenet\n",
        "    a = Dense(512, activation='relu')(a)\n",
        "    a = Dense(128, activation='relu')(a)\n",
        "    out = Dense(2, activation='softmax')(a)\n",
        " \n",
        "    model = Model(inp, out)\n",
        "    model.compile(Adam(lr=1e-3), loss='binary_crossentropy')\n",
        "    \n",
        "    return model"
      ],
      "execution_count": 13,
      "outputs": []
    },
    {
      "cell_type": "code",
      "metadata": {
        "id": "mdCvMfZHLZWt"
      },
      "source": [
        "\n",
        "### CREATE EMPTY GENERATORS ###\n",
        "\n",
        "train_datagen = ImageDataGenerator()\n",
        "test_datagen = ImageDataGenerator()\n",
        "\n",
        "SHAPE = (224,224,3)"
      ],
      "execution_count": 14,
      "outputs": []
    },
    {
      "cell_type": "code",
      "metadata": {
        "id": "7wKLZ2lIfUke",
        "colab": {
          "base_uri": "https://localhost:8080/"
        },
        "outputId": "82ca8947-e5de-473a-dac6-adc66aaa6fa8"
      },
      "source": [
        "### FLOW GENERATORS ###\n",
        "\n",
        "train_generator = train_datagen.flow_from_directory(\n",
        "            '/content/drive/My Drive/Dataset_Project/Dataset 4',\n",
        "            target_size = (SHAPE[0], SHAPE[1]),\n",
        "            batch_size = 256,\n",
        "            class_mode = 'categorical',\n",
        "            shuffle = True,\n",
        "            seed = 33,\n",
        "            classes = ['no']\n",
        "    )\n",
        "\n",
        "test_generator = test_datagen.flow_from_directory(\n",
        "            '/content/drive/My Drive/Dataset_Project/Dataset 2/',\n",
        "            target_size = (SHAPE[0], SHAPE[1]),\n",
        "            batch_size = 256,\n",
        "            class_mode = 'categorical',\n",
        "            shuffle = False,\n",
        "            seed = 33,\n",
        "            classes = ['no','yes']\n",
        ")"
      ],
      "execution_count": 15,
      "outputs": [
        {
          "output_type": "stream",
          "text": [
            "Found 1500 images belonging to 1 classes.\n",
            "Found 253 images belonging to 2 classes.\n"
          ],
          "name": "stdout"
        }
      ]
    },
    {
      "cell_type": "code",
      "metadata": {
        "colab": {
          "base_uri": "https://localhost:8080/"
        },
        "id": "J1ZXRyIMNQp8",
        "outputId": "c75321c4-60d8-4e5c-b94e-bc88be80b598"
      },
      "source": [
        "print(train_generator.class_indices)\n",
        "print(test_generator.class_indices)"
      ],
      "execution_count": 16,
      "outputs": [
        {
          "output_type": "stream",
          "text": [
            "{'no': 0}\n",
            "{'no': 0, 'yes': 1}\n"
          ],
          "name": "stdout"
        }
      ]
    },
    {
      "cell_type": "code",
      "metadata": {
        "colab": {
          "base_uri": "https://localhost:8080/"
        },
        "id": "ge4UXATr6KVB",
        "outputId": "27c34b53-6007-4982-ad4b-84a61a6b9d44"
      },
      "source": [
        "\n",
        "\n",
        "model = get_model()\n",
        "model.fit(wrap_generator(train_generator), steps_per_epoch=train_generator.samples/train_generator.batch_size, epochs=5)"
      ],
      "execution_count": 18,
      "outputs": [
        {
          "output_type": "stream",
          "text": [
            "WARNING:tensorflow:`input_shape` is undefined or non-square, or `rows` is not in [128, 160, 192, 224]. Weights for input shape (224, 224) will be loaded as the default.\n",
            "Epoch 1/5\n",
            "5/5 [==============================] - 239s 46s/step - loss: 1.0354\n",
            "Epoch 2/5\n",
            "5/5 [==============================] - 68s 12s/step - loss: 0.8582\n",
            "Epoch 3/5\n",
            "5/5 [==============================] - 68s 12s/step - loss: 0.9814\n",
            "Epoch 4/5\n",
            "5/5 [==============================] - 68s 12s/step - loss: 0.7937\n",
            "Epoch 5/5\n",
            "5/5 [==============================] - 68s 12s/step - loss: 0.9660\n"
          ],
          "name": "stdout"
        },
        {
          "output_type": "execute_result",
          "data": {
            "text/plain": [
              "<tensorflow.python.keras.callbacks.History at 0x7f9f01dc17d0>"
            ]
          },
          "metadata": {
            "tags": []
          },
          "execution_count": 18
        }
      ]
    },
    {
      "cell_type": "code",
      "metadata": {
        "id": "hXf2Q6eU8_ta",
        "colab": {
          "base_uri": "https://localhost:8080/"
        },
        "outputId": "bfb92610-46dc-4d6e-fce2-d5d8b344a07f"
      },
      "source": [
        "  ### RETRIVE TEST LABEL FROM GENERATOR ###\n",
        "\n",
        "test_num = test_generator.samples\n",
        "\n",
        "label_test = []\n",
        "for i in range((test_num // test_generator.batch_size)+1):\n",
        "    X,y = test_generator.next()\n",
        "    label_test.append(y)\n",
        "        \n",
        "label_test = np.argmax(np.vstack(label_test), axis=1)\n",
        "label_test.shape\n",
        "print(label_test)"
      ],
      "execution_count": 19,
      "outputs": [
        {
          "output_type": "stream",
          "text": [
            "[0 0 0 0 0 0 0 0 0 0 0 0 0 0 0 0 0 0 0 0 0 0 0 0 0 0 0 0 0 0 0 0 0 0 0 0 0\n",
            " 0 0 0 0 0 0 0 0 0 0 0 0 0 0 0 0 0 0 0 0 0 0 0 0 0 0 0 0 0 0 0 0 0 0 0 0 0\n",
            " 0 0 0 0 0 0 0 0 0 0 0 0 0 0 0 0 0 0 0 0 0 0 0 0 1 1 1 1 1 1 1 1 1 1 1 1 1\n",
            " 1 1 1 1 1 1 1 1 1 1 1 1 1 1 1 1 1 1 1 1 1 1 1 1 1 1 1 1 1 1 1 1 1 1 1 1 1\n",
            " 1 1 1 1 1 1 1 1 1 1 1 1 1 1 1 1 1 1 1 1 1 1 1 1 1 1 1 1 1 1 1 1 1 1 1 1 1\n",
            " 1 1 1 1 1 1 1 1 1 1 1 1 1 1 1 1 1 1 1 1 1 1 1 1 1 1 1 1 1 1 1 1 1 1 1 1 1\n",
            " 1 1 1 1 1 1 1 1 1 1 1 1 1 1 1 1 1 1 1 1 1 1 1 1 1 1 1 1 1 1 1]\n"
          ],
          "name": "stdout"
        }
      ]
    },
    {
      "cell_type": "code",
      "metadata": {
        "colab": {
          "base_uri": "https://localhost:8080/"
        },
        "id": "lTcYMk9G_Hsg",
        "outputId": "77e6c753-88c5-4f9c-e013-b0479be53f99"
      },
      "source": [
        "### SWITCH TO INFERENCE MODE TO COMPUTE PREDICTIONS ###\n",
        "\n",
        "ineference_model = get_model(train=False)"
      ],
      "execution_count": 20,
      "outputs": [
        {
          "output_type": "stream",
          "text": [
            "WARNING:tensorflow:`input_shape` is undefined or non-square, or `rows` is not in [128, 160, 192, 224]. Weights for input shape (224, 224) will be loaded as the default.\n"
          ],
          "name": "stdout"
        }
      ]
    },
    {
      "cell_type": "code",
      "metadata": {
        "colab": {
          "base_uri": "https://localhost:8080/"
        },
        "id": "aCd5YySI_bhZ",
        "outputId": "c9dcd3ae-cf58-43f4-bcc9-cdc190770a9b"
      },
      "source": [
        "### COMPUTE PREDICTIONS ON TEST DATA ###\n",
        "\n",
        "pred_test = np.argmax(ineference_model.predict(test_generator), axis=1)\n",
        "print(pred_test)"
      ],
      "execution_count": 21,
      "outputs": [
        {
          "output_type": "stream",
          "text": [
            "[0 0 0 1 0 1 0 0 0 0 1 1 0 0 0 0 0 0 0 0 0 1 0 0 0 1 0 0 0 0 0 1 0 1 1 0 0\n",
            " 0 0 0 1 0 0 0 1 1 0 0 0 0 0 0 0 0 1 0 1 1 0 1 0 0 0 0 1 0 0 0 1 0 0 0 0 0\n",
            " 0 0 1 0 0 0 0 1 0 0 0 0 0 0 0 0 0 0 0 0 0 0 0 0 0 0 0 1 0 0 0 0 0 1 0 0 0\n",
            " 1 0 1 0 0 0 0 0 0 0 0 0 0 0 0 0 0 0 0 0 0 0 0 1 1 0 0 0 0 0 1 0 0 0 0 0 0\n",
            " 0 1 0 0 1 0 0 0 1 0 1 0 0 0 0 1 0 1 0 1 0 0 0 0 0 0 0 0 0 0 0 0 0 0 0 0 0\n",
            " 0 0 1 0 1 1 0 0 1 1 0 0 0 0 0 1 0 0 1 0 1 0 0 0 0 1 0 0 1 0 0 0 0 0 0 0 0\n",
            " 0 0 0 1 0 0 0 0 1 0 1 0 1 1 0 0 0 0 0 0 1 1 1 0 1 0 0 1 0 1 0]\n"
          ],
          "name": "stdout"
        }
      ]
    },
    {
      "cell_type": "code",
      "metadata": {
        "colab": {
          "base_uri": "https://localhost:8080/"
        },
        "id": "k43OtguRBOaw",
        "outputId": "92d54e4f-b869-4573-9f17-805c3268ee17"
      },
      "source": [
        "\n",
        "### ACCURACY ON TEST DATA ###\n",
        "\n",
        "print('ACCURACY:', accuracy_score(label_test, pred_test))"
      ],
      "execution_count": 22,
      "outputs": [
        {
          "output_type": "stream",
          "text": [
            "ACCURACY: 0.44664031620553357\n"
          ],
          "name": "stdout"
        }
      ]
    },
    {
      "cell_type": "code",
      "metadata": {
        "id": "fHEgvLvFBSrb"
      },
      "source": [
        "def plot_confusion_matrix(cm, classes, title='Confusion matrix', cmap=plt.cm.Blues):\n",
        "\n",
        "    cm = cm.astype('float') / cm.sum(axis=1)[:, np.newaxis]\n",
        "\n",
        "    plt.imshow(cm, interpolation='nearest', cmap=cmap)\n",
        "    plt.title(title, fontsize=25)\n",
        "    # plt.colorbar()\n",
        "    tick_marks = np.arange(len(classes))\n",
        "    plt.xticks(tick_marks, classes, rotation=90, fontsize=15)\n",
        "    plt.yticks(tick_marks, classes, fontsize=15)\n",
        "\n",
        "    fmt = '.2f'\n",
        "    thresh = cm.max() / 2.\n",
        "    for i, j in itertools.product(range(cm.shape[0]), range(cm.shape[1])):\n",
        "        plt.text(j, i, format(cm[i, j], fmt),\n",
        "                 horizontalalignment=\"center\",\n",
        "                 color=\"white\" if cm[i, j] > thresh else \"black\", fontsize = 14)\n",
        "\n",
        "    plt.ylabel('True label', fontsize=20)\n",
        "    plt.xlabel('Predicted label', fontsize=20)"
      ],
      "execution_count": 23,
      "outputs": []
    },
    {
      "cell_type": "code",
      "metadata": {
        "colab": {
          "base_uri": "https://localhost:8080/",
          "height": 495
        },
        "id": "KEehsx5QCPDh",
        "outputId": "21aa5c06-a590-4612-8ffe-fef8127e13fe"
      },
      "source": [
        "### CONFUSION MATRIX ON TEST DATA ###\n",
        "\n",
        "cnf_matrix = confusion_matrix(label_test, pred_test)\n",
        "\n",
        "plt.figure(figsize=(7,7))\n",
        "plot_confusion_matrix(cnf_matrix, classes=['YES','NO'])\n",
        "plt.show()"
      ],
      "execution_count": 24,
      "outputs": [
        {
          "output_type": "display_data",
          "data": {
            "image/png": "[encoded data removed]",
            "text/plain": [
              "<Figure size 504x504 with 1 Axes>"
            ]
          },
          "metadata": {
            "tags": [],
            "needs_background": "light"
          }
        }
      ]
    },
    {
      "cell_type": "code",
      "metadata": {
        "id": "qe6F_q-7CSFP",
        "colab": {
          "base_uri": "https://localhost:8080/"
        },
        "outputId": "bd056e76-db65-4ff1-a86d-5df738900874"
      },
      "source": [
        "from sklearn .metrics import roc_auc_score \n",
        "from sklearn import metrics\n",
        "print(roc_auc_score(label_test,pred_test))"
      ],
      "execution_count": 25,
      "outputs": [
        {
          "output_type": "stream",
          "text": [
            "0.510862409479921\n"
          ],
          "name": "stdout"
        }
      ]
    },
    {
      "cell_type": "code",
      "metadata": {
        "id": "ALiBkIeqhx6p",
        "colab": {
          "base_uri": "https://localhost:8080/"
        },
        "outputId": "ceb9032f-fb7d-4ae3-c13b-10d65a48f153"
      },
      "source": [
        "model.summary()"
      ],
      "execution_count": 26,
      "outputs": [
        {
          "output_type": "stream",
          "text": [
            "Model: \"model_2\"\n",
            "__________________________________________________________________________________________________\n",
            "Layer (type)                    Output Shape         Param #     Connected to                     \n",
            "==================================================================================================\n",
            "input_5 (InputLayer)            [(None, 224, 224, 3) 0                                            \n",
            "__________________________________________________________________________________________________\n",
            "gaussian_noise_4 (GaussianNoise (None, 224, 224, 3)  0           input_5[0][0]                    \n",
            "__________________________________________________________________________________________________\n",
            "lambda_6 (Lambda)               (None, 224, 224, 3)  0           gaussian_noise_4[0][0]           \n",
            "__________________________________________________________________________________________________\n",
            "mobilenet_1.00_224 (Functional) (None, None, None, 1 3228864     lambda_6[0][0]                   \n",
            "__________________________________________________________________________________________________\n",
            "lambda_7 (Lambda)               (None, 7, 7, 1024)   0           mobilenet_1.00_224[0][0]         \n",
            "__________________________________________________________________________________________________\n",
            "gaussian_noise_5 (GaussianNoise (None, 7, 7, 1024)   0           lambda_7[0][0]                   \n",
            "__________________________________________________________________________________________________\n",
            "lambda_8 (Lambda)               (None, 7, 7, 1024)   0           mobilenet_1.00_224[0][0]         \n",
            "                                                                 gaussian_noise_5[0][0]           \n",
            "__________________________________________________________________________________________________\n",
            "activation_2 (Activation)       (None, 7, 7, 1024)   0           lambda_8[0][0]                   \n",
            "__________________________________________________________________________________________________\n",
            "global_max_pooling2d_2 (GlobalM (None, 1024)         0           activation_2[0][0]               \n",
            "__________________________________________________________________________________________________\n",
            "dense_8 (Dense)                 (None, 1024)         1049600     global_max_pooling2d_2[0][0]     \n",
            "__________________________________________________________________________________________________\n",
            "dense_9 (Dense)                 (None, 512)          524800      dense_8[0][0]                    \n",
            "__________________________________________________________________________________________________\n",
            "dense_10 (Dense)                (None, 128)          65664       dense_9[0][0]                    \n",
            "__________________________________________________________________________________________________\n",
            "dense_11 (Dense)                (None, 2)            258         dense_10[0][0]                   \n",
            "==================================================================================================\n",
            "Total params: 4,869,186\n",
            "Trainable params: 2,690,946\n",
            "Non-trainable params: 2,178,240\n",
            "__________________________________________________________________________________________________\n"
          ],
          "name": "stdout"
        }
      ]
    },
    {
      "cell_type": "code",
      "metadata": {
        "id": "Bfgut6icdQqm"
      },
      "source": [
        "\n",
        "%matplotlib inline\n",
        "\n",
        "def classify_array(images,classes):\n",
        "    inv_map = {v: k for k, v in classes.items()}\n",
        "    \n",
        "    for url in images:\n",
        "        x = []\n",
        "        ImageFile.LOAD_TRUNCATED_IMAGES = False\n",
        "        response = requests.get(url)\n",
        "        img = Image.open(BytesIO(response.content))\n",
        "        img.load()\n",
        "        img = img.resize((IMAGE_WIDTH,IMAGE_HEIGHT),Image.ANTIALIAS)\n",
        "\n",
        "        x = image.img_to_array(img)\n",
        "        x = np.expand_dims(x, axis=0)\n",
        "        x = preprocess_input(x)\n",
        "        x = x[:,:,:,:3]\n",
        "        \n",
        "        \n",
        "        pred = model.predict(x)\n",
        "\n",
        "        display(L)\n",
        "        display(img)\n",
        "        pred2 = int(np.argmax(pred,axis=1))\n",
        "        print(pred)\n",
        "        print(inv_map[pred2])"
      ],
      "execution_count": null,
      "outputs": []
    }
  ]
}